{
 "cells": [
  {
   "cell_type": "code",
   "execution_count": null,
   "metadata": {
    "collapsed": true,
    "pycharm": {
     "is_executing": true
    }
   },
   "outputs": [],
   "source": [
    "import numpy as np\n",
    "from PIL import Image"
   ]
  },
  {
   "cell_type": "code",
   "execution_count": null,
   "outputs": [],
   "source": [
    "with open('input', 'r') as file:\n",
    "    data = [d.split('\\n') for d in file.read().split('\\n\\n')]\n",
    "    coords = np.array([[int(x) for x in d.split(',')] for d in data[0]])\n",
    "    splits = [(lambda d: (d[0][-1], int(d[1])))(d.split('=')) for d in data[1]]\n",
    "\n",
    "max_x, max_y = 0, 0\n",
    "for ax, val in splits:\n",
    "    if ax == 'x' and not max_x:\n",
    "        max_x = val * 2 + 1\n",
    "    elif ax == 'y' and not max_y:\n",
    "        max_y = val * 2 + 1\n",
    "    if max_x and max_y: break\n",
    "\n",
    "dots = np.zeros((max_x, max_y), bool)\n",
    "for x, y in coords:\n",
    "    dots[x, y] = True\n",
    "\n",
    "for ax, val in splits:\n",
    "    dots, _, right = np.split(dots, [val, val + 1], axis=0 if ax == 'x' else 1)\n",
    "    right = np.flip(right, axis=0 if ax == 'x' else 1)\n",
    "    dots |= right\n",
    "\n",
    "# print(np.count_nonzero(dots))\n",
    "Image.fromarray(dots.transpose())"
   ],
   "metadata": {
    "collapsed": false,
    "pycharm": {
     "is_executing": true
    }
   }
  }
 ],
 "metadata": {
  "kernelspec": {
   "display_name": "Python 3",
   "language": "python",
   "name": "python3"
  },
  "language_info": {
   "codemirror_mode": {
    "name": "ipython",
    "version": 2
   },
   "file_extension": ".py",
   "mimetype": "text/x-python",
   "name": "python",
   "nbconvert_exporter": "python",
   "pygments_lexer": "ipython2",
   "version": "2.7.6"
  }
 },
 "nbformat": 4,
 "nbformat_minor": 0
}
